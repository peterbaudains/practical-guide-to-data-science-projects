{
 "cells": [
  {
   "cell_type": "code",
   "execution_count": null,
   "id": "bde9630f-4ebb-486a-bfdb-79b20cb79ee0",
   "metadata": {},
   "outputs": [],
   "source": [
    "import pandas as pd\n",
    "import matplotlib.pyplot as plt\n",
    "import seaborn as sns"
   ]
  },
  {
   "cell_type": "code",
   "execution_count": null,
   "id": "d856efa9-d15b-4713-9051-5638ce2571d6",
   "metadata": {},
   "outputs": [],
   "source": [
    "df = pd.read_csv('/Users/pete/Downloads/nmftmarkets.csv')"
   ]
  },
  {
   "cell_type": "code",
   "execution_count": null,
   "id": "6ea27985-1c2e-41c8-b173-aa6007d7b2a5",
   "metadata": {},
   "outputs": [],
   "source": [
    "df.columns"
   ]
  },
  {
   "cell_type": "code",
   "execution_count": null,
   "id": "2e231479-f9a0-4df0-90db-df7d912c10d2",
   "metadata": {},
   "outputs": [],
   "source": [
    "df['most_recent_visitdate_mkv'] = pd.to_datetime(df['most_recent_visitdate_mkv'], format='%d/%m/%Y')"
   ]
  },
  {
   "cell_type": "code",
   "execution_count": null,
   "id": "6da3c521-b1d3-4c0d-a468-b4c2b52be4cd",
   "metadata": {},
   "outputs": [],
   "source": [
    "df2 = df[df['most_recent_visitdate_mkv']>'2018-01-01'].groupby(['name_loc', 'open_gt4_days_per_week']).agg({'name_mkv':'nunique'})"
   ]
  },
  {
   "cell_type": "code",
   "execution_count": null,
   "id": "fd4c8cfa-b0c3-4fad-b85f-41694c94cf4b",
   "metadata": {},
   "outputs": [],
   "source": [
    "sns.barplot(data=df2.reset_index().sort_values(by='name_mkv',ascending=False),x='name_loc',y='name_mkv', hue='open_gt4_days_per_week')\n",
    "plt.xticks(rotation=70)"
   ]
  },
  {
   "cell_type": "code",
   "execution_count": null,
   "id": "14dd617a-ebb2-4232-99ab-0749a0c20c4f",
   "metadata": {},
   "outputs": [],
   "source": [
    "df2.to_csv('df2.csv')"
   ]
  },
  {
   "cell_type": "code",
   "execution_count": null,
   "id": "5fa4ff68-a0e7-4349-8204-b5ddc3ac9ea8",
   "metadata": {},
   "outputs": [],
   "source": [
    "df['open_gt4_days_per_week'] = (df.loc[:, df.columns.str.startswith('open')].sum(axis=1) >=5).astype(int)"
   ]
  },
  {
   "cell_type": "code",
   "execution_count": null,
   "id": "8bd9a030-552c-46c5-ad8b-e1a4a460c919",
   "metadata": {},
   "outputs": [],
   "source": []
  }
 ],
 "metadata": {
  "kernelspec": {
   "display_name": "seaborn",
   "language": "python",
   "name": "seaborn"
  },
  "language_info": {
   "codemirror_mode": {
    "name": "ipython",
    "version": 3
   },
   "file_extension": ".py",
   "mimetype": "text/x-python",
   "name": "python",
   "nbconvert_exporter": "python",
   "pygments_lexer": "ipython3",
   "version": "3.10.6"
  }
 },
 "nbformat": 4,
 "nbformat_minor": 5
}
