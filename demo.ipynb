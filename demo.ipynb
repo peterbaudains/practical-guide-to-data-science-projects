{
 "cells": [
  {
   "cell_type": "code",
   "execution_count": 5,
   "id": "bde9630f-4ebb-486a-bfdb-79b20cb79ee0",
   "metadata": {},
   "outputs": [],
   "source": [
    "import pandas as pd\n",
    "import matplotlib.pyplot as plt\n",
    "import seaborn as sns"
   ]
  },
  {
   "cell_type": "code",
   "execution_count": 6,
   "id": "d856efa9-d15b-4713-9051-5638ce2571d6",
   "metadata": {},
   "outputs": [],
   "source": [
    "df = pd.read_csv('/Users/pete/Downloads/nmftmarkets.csv')"
   ]
  },
  {
   "cell_type": "code",
   "execution_count": 7,
   "id": "6ea27985-1c2e-41c8-b173-aa6007d7b2a5",
   "metadata": {},
   "outputs": [
    {
     "data": {
      "text/plain": [
       "Index(['name_mkv', 'input_type_mkv', 'market_In_Out_Mkv ', 'type_specific_mkv',\n",
       "       'address_mkv', 'town_mkv', 'postcode_mkv', 'regionname_mkv', 'name_loc',\n",
       "       'easting', 'northing', 'latitude', 'longitude', 'websiteurl_mkv',\n",
       "       'facebookurl_mkv', 'twitterurl_mkv', 'markettimesurl_mkv',\n",
       "       'typeofstalls_mkv', 'rent_mkv', 'openmonday_mkv', 'opentuesday_mkv',\n",
       "       'openwednesday_mkv', 'openthursday_mkv', 'openfriday_mkv',\n",
       "       'opensaturday_mkv', 'opensunday_mkv', 'rentalagreement_mkv',\n",
       "       'servicecharge_mkv', 'refusecollection_mkv', 'casuals_mkv ',\n",
       "       'demmers_mkv', 'pitchers_mkv ', 'operator_mkv', 'monnostallsavail_mkv',\n",
       "       'monnostallsocc_mkv', 'monnostalltrad_mkv', 'tuenostallsavail_mkv',\n",
       "       'tuenostallsocc_mkv', 'tuenostalltrad_mkv', 'wednostallsavail_mkv',\n",
       "       'wednostallsocc_mkv', 'wednostalltrad_mkv', 'thunostallsavail_mkv',\n",
       "       'thunostallsocc_mkv', 'thunostalltrad_mkv', 'frinostallsavail_mkv',\n",
       "       'frinostallsocc_mkv', 'frinostalltrad_mkv', 'satnostalltrad_mkv',\n",
       "       'sunnostallsavail_mkv', 'sunnostallsocc_mkv', 'sunnostalltrad_mkv',\n",
       "       'most_recent_visitdate_mkv'],\n",
       "      dtype='object')"
      ]
     },
     "execution_count": 7,
     "metadata": {},
     "output_type": "execute_result"
    }
   ],
   "source": [
    "df.columns"
   ]
  },
  {
   "cell_type": "code",
   "execution_count": 8,
   "id": "2e231479-f9a0-4df0-90db-df7d912c10d2",
   "metadata": {},
   "outputs": [],
   "source": [
    "df['most_recent_visitdate_mkv'] = pd.to_datetime(df['most_recent_visitdate_mkv'], format='%d/%m/%Y')"
   ]
  }
 ],
 "metadata": {
  "kernelspec": {
   "display_name": "seaborn",
   "language": "python",
   "name": "seaborn"
  },
  "language_info": {
   "codemirror_mode": {
    "name": "ipython",
    "version": 3
   },
   "file_extension": ".py",
   "mimetype": "text/x-python",
   "name": "python",
   "nbconvert_exporter": "python",
   "pygments_lexer": "ipython3",
   "version": "3.10.6"
  }
 },
 "nbformat": 4,
 "nbformat_minor": 5
}
